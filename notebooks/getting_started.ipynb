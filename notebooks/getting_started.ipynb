{
 "cells": [
  {
   "cell_type": "markdown",
   "metadata": {},
   "source": [
    "# Getting Started with ncrsh DataLoader\n",
    "\n",
    "This notebook provides a quick introduction to using the ncrsh DataLoader with various types of datasets."
   ]
  },
  {
   "cell_type": "code",
   "execution_count": null,
   "metadata": {},
   "outputs": [],
   "source": [
    "# Import required libraries\n",
    "import sys\n",
    "import numpy as np\n",
    "from pathlib import Path\n",
    "\n",
    "# Add the project root to the Python path\n",
    "sys.path.append(str(Path().absolute().parent.parent))\n",
    "\n",
    "from ncrsh.data import DataLoader, Dataset, TensorDataset\n",
    "from ncrsh.tensor import Tensor"
   ]
  },
  {
   "cell_type": "markdown",
   "metadata": {},
   "source": [
    "## 1. Using a Custom Dataset\n",
    "\n",
    "Let's create a simple custom dataset and use it with the DataLoader."
   ]
  },
  {
   "cell_type": "code",
   "execution_count": null,
   "metadata": {},
   "outputs": [],
   "source": [
    "class CustomDataset(Dataset):\n",
    "    def __init__(self, size=100, input_shape=(3, 32, 32), num_classes=10):\n",
    "        self.size = size\n",
    "        self.input_shape = input_shape\n",
    "        self.data = np.random.randn(size, *input_shape).astype(np.float32)\n",
    "        self.targets = np.random.randint(0, num_classes, size=size, dtype=np.int64)\n",
    "    \n",
    "    def __len__(self):\n",
    "        return self.size\n",
    "    \n",
    "    def __getitem__(self, idx):\n",
    "        return Tensor(self.data[idx]), Tensor([self.targets[idx]])\n",
    "\n",
    "# Create dataset and dataloader\n",
    "dataset = CustomDataset(size=1000)\n",
    "dataloader = DataLoader(dataset, batch_size=32, shuffle=True)\n",
    "\n",
    "# Iterate through the dataloader\n",
    "for batch_idx, (inputs, targets) in enumerate(dataloader):\n",
    "    print(f\"Batch {batch_idx}: inputs shape={inputs.shape}, targets shape={targets.shape}\")\n",
    "    if batch_idx == 2:  # Just show first 3 batches\n",
    "        break"
   ]
  },
  {
   "cell_type": "markdown",
   "metadata": {},
   "source": [
    "## 2. Using TensorDataset\n",
    "\n",
    "For simple cases where you already have your data in arrays, you can use TensorDataset."
   ]
  },
  {
   "cell_type": "code",
   "execution_count": null,
   "metadata": {},
   "outputs": [],
   "source": [
    "# Create sample data\n",
    "x = np.random.randn(100, 3, 32, 32).astype(np.float32)\n",
    "y = np.random.randint(0, 10, size=100, dtype=np.int64)\n",
    "\n",
    "# Create dataset and dataloader\n",
    "dataset = TensorDataset(Tensor(x), Tensor(y))\n",
    "dataloader = DataLoader(dataset, batch_size=16, shuffle=True)\n",
    "\n",
    "# Iterate through the dataloader\n",
    "for batch_idx, (inputs, targets) in enumerate(dataloader):\n",
    "    print(f\"Batch {batch_idx}: inputs shape={inputs.shape}, targets shape={targets.shape}\")\n",
    "    if batch_idx == 2:  # Just show first 3 batches\n",
    "        break"
   ]
  },
  {
   "cell_type": "markdown",
   "metadata": {},
   "source": [
    "## 3. Using Multiple Workers\n",
    "\n",
    "The DataLoader supports multi-process data loading for better performance."
   ]
  },
  {
   "cell_type": "code",
   "execution_count": null,
   "metadata": {},
   "outputs": [],
   "source": [
    "# Create dataset and dataloader with multiple workers\n",
    "dataset = CustomDataset(size=1000)\n",
    "dataloader = DataLoader(\n",
    "    dataset=dataset,\n",
    "    batch_size=32,\n",
    "    shuffle=True,\n",
    "    num_workers=2,  # Use 2 worker processes\n",
    "    pin_memory=True  # Faster data transfer to CUDA devices\n",
    ")\n",
    "\n",
    "# Iterate through the dataloader\n",
    "for batch_idx, (inputs, targets) in enumerate(dataloader):\n",
    "    print(f\"Batch {batch_idx}: inputs shape={inputs.shape}, targets shape={targets.shape}\")\n",
    "    if batch_idx == 2:  # Just show first 3 batches\n",
    "        break"
   ]
  }
 ],
 "metadata": {
  "kernelspec": {
   "display_name": "Python 3",
   "language": "python",
   "name": "python3"
  },
  "language_info": {
   "codemirror_mode": {
    "name": "ipython",
    "version": 3
   },
   "file_extension": ".py",
   "mimetype": "text/x-python",
   "name": "python",
   "nbconvert_exporter": "python",
   "pygments_lexer": "ipython3",
   "version": "3.8.0"
  }
 },
 "nbformat": 4,
 "nbformat_minor": 4
}
